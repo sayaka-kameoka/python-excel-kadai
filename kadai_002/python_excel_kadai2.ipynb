{
  "nbformat": 4,
  "nbformat_minor": 0,
  "metadata": {
    "colab": {
      "provenance": []
    },
    "kernelspec": {
      "name": "python3",
      "display_name": "Python 3"
    },
    "language_info": {
      "name": "python"
    }
  },
  "cells": [
    {
      "cell_type": "code",
      "execution_count": 1,
      "metadata": {
        "colab": {
          "base_uri": "https://localhost:8080/"
        },
        "id": "51S4_NBWX6nR",
        "outputId": "a7069808-18d4-4f2f-a452-87d329d78c23"
      },
      "outputs": [
        {
          "output_type": "stream",
          "name": "stdout",
          "text": [
            "ファイル '業績.xlsx' を作成しました。\n"
          ]
        }
      ],
      "source": [
        "import pandas as pd\n",
        "\n",
        "# ① 元データの作成\n",
        "data = {\n",
        "    '日付': ['2023-05-17', '2023-05-18', '2023-05-19', '2023-05-20', '2023-05-21'],\n",
        "    '社員名': ['山田', '佐藤', '鈴木', '田中', '高橋'],\n",
        "    '売上': [100, 200, 150, 300, 250],\n",
        "    '部門': ['メーカー', '代理店', 'メーカー', '商社', '代理店']\n",
        "}\n",
        "df = pd.DataFrame(data)\n",
        "\n",
        "# ② 売上の平均を算出（全体平均）\n",
        "平均売上 = int(df['売上'].mean())\n",
        "df['平均売上'] = 平均売上\n",
        "\n",
        "# ③ 業績ランクの算出\n",
        "def calc_rank(sales):\n",
        "    if sales >= 300:\n",
        "        return 'A'\n",
        "    elif sales >= 200:\n",
        "        return 'B'\n",
        "    else:\n",
        "        return 'C'\n",
        "\n",
        "df['業績ランク'] = df['売上'].apply(calc_rank)\n",
        "\n",
        "# ④ Excelに書き出し\n",
        "df.to_excel('業績.xlsx', index=False)\n",
        "\n",
        "print(\"ファイル '業績.xlsx' を作成しました。\")\n"
      ]
    }
  ]
}