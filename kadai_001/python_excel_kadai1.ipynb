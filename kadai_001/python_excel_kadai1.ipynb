{
  "nbformat": 4,
  "nbformat_minor": 0,
  "metadata": {
    "colab": {
      "provenance": []
    },
    "kernelspec": {
      "name": "python3",
      "display_name": "Python 3"
    },
    "language_info": {
      "name": "python"
    }
  },
  "cells": [
    {
      "cell_type": "code",
      "execution_count": 2,
      "metadata": {
        "colab": {
          "base_uri": "https://localhost:8080/"
        },
        "id": "tUwNL2qFCAjd",
        "outputId": "ad10747c-0fc9-4729-9828-e8a32bba8c3b"
      },
      "outputs": [
        {
          "output_type": "stream",
          "name": "stdout",
          "text": [
            "Requirement already satisfied: openpyxl in /usr/local/lib/python3.11/dist-packages (3.1.5)\n",
            "Requirement already satisfied: et-xmlfile in /usr/local/lib/python3.11/dist-packages (from openpyxl) (2.0.0)\n"
          ]
        }
      ],
      "source": [
        "pip install openpyxl"
      ]
    },
    {
      "cell_type": "code",
      "source": [
        "from openpyxl import Workbook\n",
        "from datetime import datetime\n",
        "\n",
        "# ワークブック作成\n",
        "wb = Workbook()\n",
        "ws = wb.active\n",
        "\n",
        "# タイトル\n",
        "ws[\"B2\"] = \"請求書\"\n",
        "\n",
        "# 会社情報\n",
        "ws[\"B4\"] = \"株式会社ABC\"\n",
        "ws[\"B5\"] = \"〒101-0022 東京都千代田区神田練塀町300\"\n",
        "ws[\"B6\"] = \"TEL:03−1234−5678 FAX:03−1234−5678\"\n",
        "ws[\"B7\"] = \"担当者名:鈴木一郎 様\"\n",
        "\n",
        "# 請求番号と日付\n",
        "ws[\"F4\"] = \"No.\"\n",
        "ws[\"G4\"] = \"0001\"\n",
        "ws[\"F5\"] = \"日付\"\n",
        "ws[\"G5\"] = datetime.now().strftime(\"%Y/%m/%d\")\n",
        "\n",
        "# 表ヘッダ\n",
        "ws[\"B10\"] = \"商品名\"\n",
        "ws[\"C10\"] = \"数量\"\n",
        "ws[\"D10\"] = \"単価\"\n",
        "ws[\"E10\"] = \"金額\"\n",
        "\n",
        "# 商品データ\n",
        "items = [\n",
        "    [\"商品A\", 2, 10000],\n",
        "    [\"商品B\", 1, 15000],\n",
        "]\n",
        "\n",
        "# 商品行の書き込み\n",
        "row = 11\n",
        "subtotal = 0\n",
        "for item in items:\n",
        "    name, quantity, unit_price = item\n",
        "    amount = quantity * unit_price\n",
        "    ws[f\"B{row}\"] = name\n",
        "    ws[f\"C{row}\"] = quantity\n",
        "    ws[f\"D{row}\"] = unit_price\n",
        "    ws[f\"E{row}\"] = amount\n",
        "    subtotal += amount\n",
        "    row += 1\n",
        "\n",
        "# 小計・消費税・合計\n",
        "ws[f\"D{row+1}\"] = \"小計\"\n",
        "ws[f\"E{row+1}\"] = subtotal\n",
        "ws[f\"D{row+2}\"] = \"消費税\"\n",
        "tax = int(subtotal * 0.10)\n",
        "ws[f\"E{row+2}\"] = tax\n",
        "ws[f\"D{row+3}\"] = \"合計\"\n",
        "ws[f\"E{row+3}\"] = subtotal + tax\n",
        "\n",
        "# ファイル保存（現在日付に基づくファイル名）\n",
        "filename = f\"請求書_{datetime.now().strftime('%Y%m%d')}.xlsx\"\n",
        "wb.save(filename)\n",
        "print(f\"{filename} を保存しました。\")\n"
      ],
      "metadata": {
        "colab": {
          "base_uri": "https://localhost:8080/"
        },
        "id": "F3q0Ru_TWVRb",
        "outputId": "bdbb44cd-9db5-4a18-d202-acc5cf546c89"
      },
      "execution_count": 3,
      "outputs": [
        {
          "output_type": "stream",
          "name": "stdout",
          "text": [
            "請求書_20250611.xlsx を保存しました。\n"
          ]
        }
      ]
    },
    {
      "cell_type": "code",
      "source": [],
      "metadata": {
        "id": "qf5sEHyFWWTG"
      },
      "execution_count": null,
      "outputs": []
    }
  ]
}